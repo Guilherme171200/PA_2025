{
  "nbformat": 4,
  "nbformat_minor": 0,
  "metadata": {
    "colab": {
      "provenance": [],
      "authorship_tag": "ABX9TyNbTDHB5QIYJLejoYII+bNQ",
      "include_colab_link": true
    },
    "kernelspec": {
      "name": "python3",
      "display_name": "Python 3"
    },
    "language_info": {
      "name": "python"
    }
  },
  "cells": [
    {
      "cell_type": "markdown",
      "metadata": {
        "id": "view-in-github",
        "colab_type": "text"
      },
      "source": [
        "<a href=\"https://colab.research.google.com/github/Guilherme171200/PA_2025/blob/main/25_04.ipynb\" target=\"_parent\"><img src=\"https://colab.research.google.com/assets/colab-badge.svg\" alt=\"Open In Colab\"/></a>"
      ]
    },
    {
      "cell_type": "markdown",
      "source": [
        "Par ou ímpar ?"
      ],
      "metadata": {
        "id": "bYNviSd40HW5"
      }
    },
    {
      "cell_type": "code",
      "execution_count": 35,
      "metadata": {
        "colab": {
          "base_uri": "https://localhost:8080/"
        },
        "id": "eXT_IuZqy12W",
        "outputId": "d73c75ff-59e1-4f43-f355-0e2dea32a7ad"
      },
      "outputs": [
        {
          "output_type": "stream",
          "name": "stdout",
          "text": [
            "digite um número para saber se é par ou ímpar !: 9\n",
            "9 é par False\n",
            "9 é ímpar True\n"
          ]
        }
      ],
      "source": [
        "#entrada\n",
        "valor = int(input('digite um número para saber se é par ou ímpar !: '))\n",
        "#processamento\n",
        "par = num%2==0\n",
        "impar = num%2 != 0\n",
        "#saída\n",
        "print(valor, \"é par\", par)\n",
        "print(valor,\"é ímpar\", impar)"
      ]
    },
    {
      "cell_type": "markdown",
      "source": [
        "triangulo"
      ],
      "metadata": {
        "id": "itAbh1fP2nDS"
      }
    },
    {
      "cell_type": "code",
      "source": [
        "#entrada\n",
        "l1 = int(input('digite um valor : '))\n",
        "l2  = int(input('digite um valor : '))\n",
        "l3 = int(input('digite um valor : '))\n",
        "\n",
        "#processamento\n",
        "t1 = l1 +l2>l3\n",
        "t2 = l2+l3>l1\n",
        "t3 = l1+l3>l2\n",
        "\n",
        "testereal=t1 and t2 and t3\n",
        "\n",
        "equilatero = l1==l2==l3\n",
        "t4= l1==l2!= l3\n",
        "t5= l1==l3 !=l2\n",
        "t6= l3==l2!=l1\n",
        "isoceles = t4 or t5 or t6\n",
        "escaleno = l1 != l2 !=l3\n",
        " #saida\n",
        "print(\"é equilatero?)\",equilatero, \",é escaleno?\", escaleno,\",é isoceles?\",isoceles)\n",
        "print(\"pode ser um trianguo?\", testereal)"
      ],
      "metadata": {
        "id": "FvlNxcQn3AR8"
      },
      "execution_count": null,
      "outputs": []
    },
    {
      "cell_type": "markdown",
      "source": [
        "imc"
      ],
      "metadata": {
        "id": "0QPBmnh7PreD"
      }
    },
    {
      "cell_type": "code",
      "source": [
        "peso=float(input('digite seu peso'))\n",
        "altura=float(input('digite sua altura'))\n",
        "imc=peso/(altura**2)\n",
        "ap= imc <=18.5\n",
        "pn= imc>18.5<2"
      ],
      "metadata": {
        "id": "hyDor-vMPtoz"
      },
      "execution_count": null,
      "outputs": []
    }
  ]
}