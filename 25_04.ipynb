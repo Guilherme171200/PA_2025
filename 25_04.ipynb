{
  "nbformat": 4,
  "nbformat_minor": 0,
  "metadata": {
    "colab": {
      "provenance": [],
      "authorship_tag": "ABX9TyMimspE4Fn+I4doShvEwqqs",
      "include_colab_link": true
    },
    "kernelspec": {
      "name": "python3",
      "display_name": "Python 3"
    },
    "language_info": {
      "name": "python"
    }
  },
  "cells": [
    {
      "cell_type": "markdown",
      "metadata": {
        "id": "view-in-github",
        "colab_type": "text"
      },
      "source": [
        "<a href=\"https://colab.research.google.com/github/Guilherme171200/PA_2025/blob/main/25_04.ipynb\" target=\"_parent\"><img src=\"https://colab.research.google.com/assets/colab-badge.svg\" alt=\"Open In Colab\"/></a>"
      ]
    },
    {
      "cell_type": "markdown",
      "source": [
        "Par ou ímpar ?"
      ],
      "metadata": {
        "id": "bYNviSd40HW5"
      }
    },
    {
      "cell_type": "code",
      "execution_count": null,
      "metadata": {
        "colab": {
          "base_uri": "https://localhost:8080/"
        },
        "id": "eXT_IuZqy12W",
        "outputId": "d73c75ff-59e1-4f43-f355-0e2dea32a7ad"
      },
      "outputs": [
        {
          "output_type": "stream",
          "name": "stdout",
          "text": [
            "digite um número para saber se é par ou ímpar !: 9\n",
            "9 é par False\n",
            "9 é ímpar True\n"
          ]
        }
      ],
      "source": [
        "#entrada\n",
        "valor = int(input('digite um número para saber se é par ou ímpar !: '))\n",
        "#processamento\n",
        "par = num%2==0\n",
        "impar = num%2 != 0\n",
        "#saída\n",
        "print(valor, \"é par\", par)\n",
        "print(valor,\"é ímpar\", impar)"
      ]
    },
    {
      "cell_type": "markdown",
      "source": [
        "triangulo"
      ],
      "metadata": {
        "id": "itAbh1fP2nDS"
      }
    },
    {
      "cell_type": "code",
      "source": [
        "#entrada\n",
        "l1 = int(input('digite um valor : '))\n",
        "l2  = int(input('digite um valor : '))\n",
        "l3 = int(input('digite um valor : '))\n",
        "\n",
        "#processamento\n",
        "t1 = l1 +l2>l3\n",
        "t2 = l2+l3>l1\n",
        "t3 = l1+l3>l2\n",
        "\n",
        "testereal=t1 and t2 and t3\n",
        "\n",
        "equilatero = l1==l2==l3\n",
        "t4= l1==l2!= l3\n",
        "t5= l1==l3 !=l2\n",
        "t6= l3==l2!=l1\n",
        "isoceles = t4 or t5 or t6\n",
        "escaleno = l1 != l2 !=l3\n",
        " #saida\n",
        "print(\"é equilatero?)\",equilatero, \",é escaleno?\", escaleno,\",é isoceles?\",isoceles)\n",
        "print(\"pode ser um trianguo?\", testereal)"
      ],
      "metadata": {
        "id": "FvlNxcQn3AR8"
      },
      "execution_count": null,
      "outputs": []
    },
    {
      "cell_type": "markdown",
      "source": [
        "imc"
      ],
      "metadata": {
        "id": "0QPBmnh7PreD"
      }
    },
    {
      "cell_type": "code",
      "source": [
        "peso=float(input('digite seu peso'))\n",
        "altura=float(input('digite sua altura'))\n",
        "imc=peso/(altura**2)\n",
        "\n",
        "ap= imc <=18.5\n",
        "pn= imc<24.9\n",
        "sb= imc <29.9\n",
        "obs1= imc<34.9\n",
        "obs2= imc<39.9\n",
        "obs3= imc>40\n",
        "print(\"Você está abaixo do peso? :\",ap, \"Você está no peso normal? :\",pn, \"Voê está com sobre peso ? :\",sb,\"Você está com obesidade tipoi 1? :\",obs1, \"Você está com obesidade tipo 2? :\",obs2,\"Você está com obesidade tipoi 3? :\",obs3, )"
      ],
      "metadata": {
        "id": "hyDor-vMPtoz",
        "colab": {
          "base_uri": "https://localhost:8080/"
        },
        "outputId": "bc3f2cd3-4c95-43f4-cbf9-63ad00d432d8"
      },
      "execution_count": 3,
      "outputs": [
        {
          "output_type": "stream",
          "name": "stdout",
          "text": [
            "digite seu peso300\n",
            "digite sua altura1.50\n",
            "Você está abaixo do peso? : False Você está no peso normal? : False Voê está com sobre peso ? : False Você está com obesidade tipoi 1? : False Você está com obesidade tipo 2? : False Você está com obesidade tipoi 3? : True\n"
          ]
        }
      ]
    },
    {
      "cell_type": "markdown",
      "source": [
        "ex 4"
      ],
      "metadata": {
        "id": "rj8FEpF3_iFR"
      }
    },
    {
      "cell_type": "code",
      "source": [
        "idade = int(input(\"Digite sua idade :\"))\n",
        "altura = float(input(\"Digite sua altura :\"))\n",
        "\n",
        "id2= idade>=18\n",
        "alt2 = altura>=1.75\n",
        "\n",
        "compt = id2 and alt2\n",
        "print(\" Você pode competir \" ,compt,)"
      ],
      "metadata": {
        "colab": {
          "base_uri": "https://localhost:8080/"
        },
        "id": "Rob5bx2L_k6x",
        "outputId": "5ce3d27f-af43-4d70-af22-4e027d703ee7"
      },
      "execution_count": 5,
      "outputs": [
        {
          "output_type": "stream",
          "name": "stdout",
          "text": [
            "Digite sua idade :18\n",
            "Digite sua altura :1.80\n",
            " Você pode competir  True\n"
          ]
        }
      ]
    }
  ]
}