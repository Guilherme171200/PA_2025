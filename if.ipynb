{
  "nbformat": 4,
  "nbformat_minor": 0,
  "metadata": {
    "colab": {
      "provenance": [],
      "authorship_tag": "ABX9TyMPQykGCYm6/Vdc3Wb8iF5i",
      "include_colab_link": true
    },
    "kernelspec": {
      "name": "python3",
      "display_name": "Python 3"
    },
    "language_info": {
      "name": "python"
    }
  },
  "cells": [
    {
      "cell_type": "markdown",
      "metadata": {
        "id": "view-in-github",
        "colab_type": "text"
      },
      "source": [
        "<a href=\"https://colab.research.google.com/github/Guilherme171200/PA_2025/blob/main/if.ipynb\" target=\"_parent\"><img src=\"https://colab.research.google.com/assets/colab-badge.svg\" alt=\"Open In Colab\"/></a>"
      ]
    },
    {
      "cell_type": "markdown",
      "source": [
        "exercício 1"
      ],
      "metadata": {
        "id": "wFRq8wNwDMKU"
      }
    },
    {
      "cell_type": "code",
      "execution_count": null,
      "metadata": {
        "id": "OTSb3T19Cxdh",
        "colab": {
          "base_uri": "https://localhost:8080/"
        },
        "outputId": "c2d9b6cf-bd2b-497a-d115-660dad741000"
      },
      "outputs": [
        {
          "output_type": "stream",
          "name": "stdout",
          "text": [
            "digite um número: 4\n",
            "Esse número é par\n"
          ]
        }
      ],
      "source": [
        "num = int(input(\"digite um número: \"))\n",
        "if num %2==0:\n",
        "    print(\"Esse número é par\")\n",
        "else :\n",
        "    print(\"Esse numero é impar\")"
      ]
    },
    {
      "cell_type": "markdown",
      "source": [
        "exercício 2"
      ],
      "metadata": {
        "id": "zsSDUAKMGJhq"
      }
    },
    {
      "cell_type": "code",
      "source": [
        "nota1 = float(input(\"digite sua primeira nota: \"))\n",
        "nota2 = float(input(\"digite a segunda nota: \"))\n",
        "nota3 = float(input(\"digite a terceira nota: \"))\n",
        "calculomedia = (nota1+nota2+nota3)/3\n",
        "if calculomedia >=6:\n",
        "  print(\"você foi aprovado!\")\n",
        "else:\n",
        "    print(\"você foi reprovado!\")"
      ],
      "metadata": {
        "id": "ApwHlgiDR6C4",
        "colab": {
          "base_uri": "https://localhost:8080/"
        },
        "outputId": "5fe480d7-1130-4253-848a-7e0afc8a2252"
      },
      "execution_count": null,
      "outputs": [
        {
          "output_type": "stream",
          "name": "stdout",
          "text": [
            "digite sua primeira nota: 6\n",
            "digite a segunda nota: 7\n",
            "digite a terceira nota: 8\n",
            "você foi aprovado!\n"
          ]
        }
      ]
    },
    {
      "cell_type": "markdown",
      "source": [
        "exercício 3"
      ],
      "metadata": {
        "id": "Df9MtoobL7Rz"
      }
    },
    {
      "cell_type": "code",
      "source": [
        "idade = int(input(\"Digite sua idade: \"))\n",
        "if idade >= 18:\n",
        " print(\"Você é maior de idade!\")\n",
        "else:\n",
        " print(\"Você não é maior de idade!\")\n"
      ],
      "metadata": {
        "id": "0VqxdCYBMCnq",
        "colab": {
          "base_uri": "https://localhost:8080/"
        },
        "outputId": "266374f0-87bf-4cda-efae-ddc4c48d02c7"
      },
      "execution_count": null,
      "outputs": [
        {
          "output_type": "stream",
          "name": "stdout",
          "text": [
            "Digite sua idade: 5\n",
            "Você não é maior de idade!\n"
          ]
        }
      ]
    },
    {
      "cell_type": "markdown",
      "source": [
        "exercício 4"
      ],
      "metadata": {
        "id": "UTvS_zZjSvoV"
      }
    },
    {
      "cell_type": "code",
      "source": [
        "cinco = int(input(\"digite algum número: \"))\n",
        "if cinco%5==0:\n",
        "  print(\"ele é multiplo de 5\")\n",
        "else:\n",
        "  print(\"esse não é multiplo de 5\")"
      ],
      "metadata": {
        "id": "XPL-sDe-SyeD",
        "colab": {
          "base_uri": "https://localhost:8080/"
        },
        "outputId": "6a3a90fe-e4d4-4634-9e52-47734363fb08"
      },
      "execution_count": null,
      "outputs": [
        {
          "output_type": "stream",
          "name": "stdout",
          "text": [
            "digite algum número: 5\n",
            "ele é multiplo de 5\n"
          ]
        }
      ]
    },
    {
      "cell_type": "markdown",
      "source": [
        "exercício 5\n"
      ],
      "metadata": {
        "id": "lC30GlbLTgv-"
      }
    },
    {
      "cell_type": "code",
      "source": [
        "peso=float(input('digite seu peso: '))\n",
        "altura=float(input('digite sua altura: '))\n",
        "imc=peso/(altura**2)\n",
        "\n",
        "ap= imc < 18.5\n",
        "pn= imc >= 18.5 and imc <= 24.9\n",
        "sb= imc >= 25 and imc <= 29.9\n",
        "obs1= imc >= 30 and imc <= 34.9\n",
        "obs2= imc >= 35 and imc <= 39.9\n",
        "obs3= imc > 40\n",
        "print(\"Você está abaixo do peso: \", ap)\n",
        "print(\"Você está no peso normal: \", pn)\n",
        "print(\"Voê está com sobre peso: \",sb)\n",
        "print(\"Você está com obesidade tipo 1: \",obs1)\n",
        "print(\"Você está com obesidade tipo 2: \",obs2)\n",
        "print(\"Você está com obesidade tipo 3: \",obs3)"
      ],
      "metadata": {
        "id": "q6gilNanT7wH",
        "colab": {
          "base_uri": "https://localhost:8080/"
        },
        "outputId": "3b55fc90-0cef-446a-ad54-fbe09b346c65"
      },
      "execution_count": null,
      "outputs": [
        {
          "output_type": "stream",
          "name": "stdout",
          "text": [
            "digite seu peso: 60\n",
            "digite sua altura: 1.73\n",
            "Você está abaixo do peso:  False\n",
            "Você está no peso normal:  True\n",
            "Voê está com sobre peso:  False\n",
            "Você está com obesidade tipo 1:  False\n",
            "Você está com obesidade tipo 2:  False\n",
            "Você está com obesidade tipo 3:  False\n"
          ]
        }
      ]
    },
    {
      "cell_type": "markdown",
      "source": [],
      "metadata": {
        "id": "el5yHr6pHCp9"
      }
    },
    {
      "cell_type": "markdown",
      "source": [
        "ex.6"
      ],
      "metadata": {
        "id": "g0goLaJKUyaS"
      }
    },
    {
      "cell_type": "code",
      "source": [
        "num = float(input(\"digite um numero\"))\n",
        "if num < 0:\n",
        "  print(\"esse numero é negativo\")\n",
        "if num ==0:\n",
        " print(\"esse numero é 0\")\n",
        "if num > 0:\n",
        " print(\"esse numero é positivo\")"
      ],
      "metadata": {
        "id": "m7yyC7UJU0Fx",
        "colab": {
          "base_uri": "https://localhost:8080/"
        },
        "outputId": "64e6b1ec-417b-452d-cd49-4290d4fabfc9"
      },
      "execution_count": null,
      "outputs": [
        {
          "output_type": "stream",
          "name": "stdout",
          "text": [
            "digite um numero0\n",
            "esse numero é 0\n"
          ]
        }
      ]
    },
    {
      "cell_type": "markdown",
      "source": [
        "ex.7"
      ],
      "metadata": {
        "id": "5xcLB5ZaVTyZ"
      }
    },
    {
      "cell_type": "code",
      "source": [
        "conta = input(\"Qual operação?\")\n",
        "\n",
        "\n",
        "if conta == \"divisão\":\n",
        "  dv1 = float(input(\"Qual é o dividido?\"))\n",
        "  dv2 = float(input(\"Qual é o divisor?\"))\n",
        "\n",
        "  final = dv1 / dv2\n",
        "\n",
        "  print(final)\n",
        "\n",
        "\n",
        "if conta == \"multiplicação\":\n",
        "  ml1 = float(input(\"Qual é o multiplicado?\"))\n",
        "  ml2 = float(input(\"Qual é o multiplicador?\"))\n",
        "\n",
        "  final2 = ml1 * ml2\n",
        "\n",
        "  print(final2)\n",
        "\n",
        "if conta == \"soma\":\n",
        "  sm1 = float(input(\"Qual é o primeiro numero?\"))\n",
        "  sm2 = float(input(\"Qual é o segundo numero?\"))\n",
        "\n",
        "  final3 = sm1 + sm2\n",
        "\n",
        "  print(final3)\n",
        "\n",
        "if conta == \"subtração\":\n",
        "  sb1 = float(input(\"Qual é o primeiro numero?\"))\n",
        "  sb2 = float(input(\"Qual é o segundo numero?\"))\n",
        "\n",
        "  final4 = sub1 - sub2\n",
        "\n",
        "  print(final4)"
      ],
      "metadata": {
        "id": "FKGr5cEWWm5a",
        "colab": {
          "base_uri": "https://localhost:8080/"
        },
        "outputId": "69d1ab51-ca37-4057-bfb2-50eaf46f3ca6"
      },
      "execution_count": 54,
      "outputs": [
        {
          "output_type": "stream",
          "name": "stdout",
          "text": [
            "Qual operação?soma\n",
            "Qual é o primeiro numero?4\n",
            "Qual é o segundo numero?2\n",
            "6.0\n"
          ]
        }
      ]
    },
    {
      "cell_type": "markdown",
      "source": [
        "ex.8"
      ],
      "metadata": {
        "id": "mnsUHxkHXGgw"
      }
    }
  ]
}