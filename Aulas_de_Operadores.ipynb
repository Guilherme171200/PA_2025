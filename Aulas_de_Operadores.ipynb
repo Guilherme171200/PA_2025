{
  "nbformat": 4,
  "nbformat_minor": 0,
  "metadata": {
    "colab": {
      "provenance": [],
      "authorship_tag": "ABX9TyOa0uVRq7nr+FDBEvqB6fSB",
      "include_colab_link": true
    },
    "kernelspec": {
      "name": "python3",
      "display_name": "Python 3"
    },
    "language_info": {
      "name": "python"
    }
  },
  "cells": [
    {
      "cell_type": "markdown",
      "metadata": {
        "id": "view-in-github",
        "colab_type": "text"
      },
      "source": [
        "<a href=\"https://colab.research.google.com/github/Guilherme171200/PA_2025/blob/main/Aulas_de_Operadores.ipynb\" target=\"_parent\"><img src=\"https://colab.research.google.com/assets/colab-badge.svg\" alt=\"Open In Colab\"/></a>"
      ]
    },
    {
      "cell_type": "code",
      "execution_count": null,
      "metadata": {
        "id": "j2QmDl-qd08q"
      },
      "outputs": [],
      "source": []
    },
    {
      "cell_type": "markdown",
      "source": [
        "Soma"
      ],
      "metadata": {
        "id": "bKW9a97ag2qp"
      }
    },
    {
      "cell_type": "code",
      "source": [
        "2+2"
      ],
      "metadata": {
        "colab": {
          "base_uri": "https://localhost:8080/"
        },
        "id": "gPEZiLvDg5ZJ",
        "outputId": "ba612dd1-fbec-421b-ce9a-24f0a83c79e7"
      },
      "execution_count": null,
      "outputs": [
        {
          "output_type": "execute_result",
          "data": {
            "text/plain": [
              "4"
            ]
          },
          "metadata": {},
          "execution_count": 1
        }
      ]
    },
    {
      "cell_type": "markdown",
      "source": [
        "Subtração"
      ],
      "metadata": {
        "id": "k4aJ1z-5hIBg"
      }
    },
    {
      "cell_type": "code",
      "source": [
        "9-4"
      ],
      "metadata": {
        "colab": {
          "base_uri": "https://localhost:8080/"
        },
        "id": "RcPyRXCmhMkw",
        "outputId": "7535e302-e969-4290-f943-08e559ce7492"
      },
      "execution_count": null,
      "outputs": [
        {
          "output_type": "execute_result",
          "data": {
            "text/plain": [
              "5"
            ]
          },
          "metadata": {},
          "execution_count": 2
        }
      ]
    },
    {
      "cell_type": "markdown",
      "source": [
        "Multiplicação"
      ],
      "metadata": {
        "id": "0yTcUaQqhV-p"
      }
    },
    {
      "cell_type": "code",
      "source": [
        "5*6"
      ],
      "metadata": {
        "colab": {
          "base_uri": "https://localhost:8080/"
        },
        "id": "WRwCMFsPhZNA",
        "outputId": "3fd7e7ac-15e1-4273-d48e-6ae779da50c5"
      },
      "execution_count": null,
      "outputs": [
        {
          "output_type": "execute_result",
          "data": {
            "text/plain": [
              "30"
            ]
          },
          "metadata": {},
          "execution_count": 3
        }
      ]
    },
    {
      "cell_type": "markdown",
      "source": [
        "Divisão"
      ],
      "metadata": {
        "id": "oqY1QIpmhdJY"
      }
    },
    {
      "cell_type": "code",
      "source": [
        "4/5"
      ],
      "metadata": {
        "colab": {
          "base_uri": "https://localhost:8080/"
        },
        "id": "EbGe3s3thfaX",
        "outputId": "8415888d-8d33-42f0-952e-de7b498b6c72"
      },
      "execution_count": null,
      "outputs": [
        {
          "output_type": "execute_result",
          "data": {
            "text/plain": [
              "0.8"
            ]
          },
          "metadata": {},
          "execution_count": 4
        }
      ]
    },
    {
      "cell_type": "markdown",
      "source": [
        "Igualdade"
      ],
      "metadata": {
        "id": "Zk15SIy5iAOH"
      }
    },
    {
      "cell_type": "code",
      "source": [
        "a = 4\n",
        "a==3"
      ],
      "metadata": {
        "colab": {
          "base_uri": "https://localhost:8080/"
        },
        "id": "Zq0UNV18iLPu",
        "outputId": "7550b413-9d0c-469a-8fd1-7389fc4829cf"
      },
      "execution_count": null,
      "outputs": [
        {
          "output_type": "execute_result",
          "data": {
            "text/plain": [
              "False"
            ]
          },
          "metadata": {},
          "execution_count": 6
        }
      ]
    },
    {
      "cell_type": "markdown",
      "source": [
        "Expoente"
      ],
      "metadata": {
        "id": "vXy4g85ljOhX"
      }
    },
    {
      "cell_type": "code",
      "source": [
        "4**3"
      ],
      "metadata": {
        "colab": {
          "base_uri": "https://localhost:8080/"
        },
        "id": "hc_IcXYEjTwX",
        "outputId": "b210992f-9666-4fd5-92e4-9318c19755f8"
      },
      "execution_count": null,
      "outputs": [
        {
          "output_type": "execute_result",
          "data": {
            "text/plain": [
              "64"
            ]
          },
          "metadata": {},
          "execution_count": 8
        }
      ]
    },
    {
      "cell_type": "markdown",
      "source": [
        "Maior, menor,maior ou igual e menor ou igual"
      ],
      "metadata": {
        "id": "ELDIoW2Cj0AG"
      }
    },
    {
      "cell_type": "code",
      "source": [
        "5>6"
      ],
      "metadata": {
        "colab": {
          "base_uri": "https://localhost:8080/"
        },
        "id": "OOjaT_qdkG7-",
        "outputId": "93ae4bca-15e0-4032-8edc-31f562e77769"
      },
      "execution_count": null,
      "outputs": [
        {
          "output_type": "execute_result",
          "data": {
            "text/plain": [
              "False"
            ]
          },
          "metadata": {},
          "execution_count": 9
        }
      ]
    },
    {
      "cell_type": "code",
      "source": [
        "3<7"
      ],
      "metadata": {
        "colab": {
          "base_uri": "https://localhost:8080/"
        },
        "id": "arrKd_Nmmaqs",
        "outputId": "108b784b-1233-42cd-fcda-76a487caa609"
      },
      "execution_count": null,
      "outputs": [
        {
          "output_type": "execute_result",
          "data": {
            "text/plain": [
              "True"
            ]
          },
          "metadata": {},
          "execution_count": 10
        }
      ]
    },
    {
      "cell_type": "code",
      "source": [
        "5>=5"
      ],
      "metadata": {
        "colab": {
          "base_uri": "https://localhost:8080/"
        },
        "id": "ygJvDPvzmiUE",
        "outputId": "e789f605-32ad-413e-8733-ecc9d0680438"
      },
      "execution_count": null,
      "outputs": [
        {
          "output_type": "execute_result",
          "data": {
            "text/plain": [
              "True"
            ]
          },
          "metadata": {},
          "execution_count": 11
        }
      ]
    },
    {
      "cell_type": "code",
      "source": [
        "5-6+8+15*(6/2)+4-9"
      ],
      "metadata": {
        "colab": {
          "base_uri": "https://localhost:8080/"
        },
        "id": "2gaEBZ_nmnXL",
        "outputId": "aa00d598-f959-430c-a80e-278a4260edc9"
      },
      "execution_count": null,
      "outputs": [
        {
          "output_type": "execute_result",
          "data": {
            "text/plain": [
              "47.0"
            ]
          },
          "metadata": {},
          "execution_count": 13
        }
      ]
    },
    {
      "cell_type": "markdown",
      "source": [],
      "metadata": {
        "id": "Pj7xBSprnbJL"
      }
    },
    {
      "cell_type": "markdown",
      "source": [
        "Diferente"
      ],
      "metadata": {
        "id": "Z6hw-MKqnhJD"
      }
    },
    {
      "cell_type": "code",
      "source": [
        "a!=4"
      ],
      "metadata": {
        "colab": {
          "base_uri": "https://localhost:8080/"
        },
        "id": "pGg-Dc57nR27",
        "outputId": "05ea052c-a60a-4f3f-c902-e0b45c8c81ec"
      },
      "execution_count": null,
      "outputs": [
        {
          "output_type": "execute_result",
          "data": {
            "text/plain": [
              "False"
            ]
          },
          "metadata": {},
          "execution_count": 15
        }
      ]
    },
    {
      "cell_type": "markdown",
      "source": [
        "variaveis"
      ],
      "metadata": {
        "id": "Tg74jWJXnzwC"
      }
    },
    {
      "cell_type": "code",
      "source": [
        "nome = 'Guilherme'\n",
        "sobrenome = 'Moraes'\n",
        "\n",
        "print ('Meu nome é' +' ' + nome + ' ' + ' ' +sobrenome)"
      ],
      "metadata": {
        "colab": {
          "base_uri": "https://localhost:8080/"
        },
        "id": "6YCTu8l9n1iZ",
        "outputId": "e440ec30-0a99-480f-894e-617882911e3f"
      },
      "execution_count": null,
      "outputs": [
        {
          "output_type": "stream",
          "name": "stdout",
          "text": [
            "Meu nome é Guilherme  Moraes\n"
          ]
        }
      ]
    },
    {
      "cell_type": "code",
      "source": [
        "nome1 =str(input('Digite seu nome: '))\n",
        "sobrenome = str(input('Digite seu sobrenome '))\n",
        "\n",
        "print ('Meu nome é' +' ' + nome + ' ' + ' ' +sobrenome)"
      ],
      "metadata": {
        "colab": {
          "base_uri": "https://localhost:8080/"
        },
        "id": "qHiXt7Zmp4k4",
        "outputId": "38f48933-23d9-42f8-9451-912ffff7029b"
      },
      "execution_count": null,
      "outputs": [
        {
          "output_type": "stream",
          "name": "stdout",
          "text": [
            "Digite seu nome: Guilherme\n",
            "Digite seu sobrenome Moraes\n",
            "Meu nome é Guilherme  Moraes\n"
          ]
        }
      ]
    },
    {
      "cell_type": "code",
      "source": [],
      "metadata": {
        "id": "70vh0Y7StZ0d"
      },
      "execution_count": null,
      "outputs": []
    }
  ]
}