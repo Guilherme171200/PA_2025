{
  "nbformat": 4,
  "nbformat_minor": 0,
  "metadata": {
    "colab": {
      "provenance": [],
      "authorship_tag": "ABX9TyMTbzH2lJ3IUS+BwZ8RjbJZ",
      "include_colab_link": true
    },
    "kernelspec": {
      "name": "python3",
      "display_name": "Python 3"
    },
    "language_info": {
      "name": "python"
    }
  },
  "cells": [
    {
      "cell_type": "markdown",
      "metadata": {
        "id": "view-in-github",
        "colab_type": "text"
      },
      "source": [
        "<a href=\"https://colab.research.google.com/github/Guilherme171200/PA_2025/blob/main/calculo.ipynb\" target=\"_parent\"><img src=\"https://colab.research.google.com/assets/colab-badge.svg\" alt=\"Open In Colab\"/></a>"
      ]
    },
    {
      "cell_type": "markdown",
      "source": [
        "Calculando os dados dos alunos"
      ],
      "metadata": {
        "id": "mRBEnNYTmxAX"
      }
    },
    {
      "cell_type": "code",
      "source": [
        "#entrada\n",
        "nota1 =float(input('Digite a primeira nota'))\n",
        "nota2 =float(input('Digite a segunda nota'))\n",
        "\n",
        "#processamento\n",
        "media = (nota1 + nota2) / 2\n",
        "\n",
        "#saída\n",
        "print('a media é: ', media)"
      ],
      "metadata": {
        "colab": {
          "base_uri": "https://localhost:8080/"
        },
        "id": "wkOgsL9tjTjR",
        "outputId": "fca1896e-82d5-4e69-e224-081b049467c1"
      },
      "execution_count": 2,
      "outputs": [
        {
          "output_type": "stream",
          "name": "stdout",
          "text": [
            "Digite a primeira nota9\n",
            "Digite a segunda nota6\n",
            "a media é:  7.5\n"
          ]
        }
      ]
    },
    {
      "cell_type": "code",
      "source": [
        "#entrada\n",
        "valor =float(input('valor da peça: '))\n",
        "qntde =float(input('quantidade de peças: '))\n",
        "\n",
        "#processamento\n",
        "vt =(qntde *3 valor)\n",
        "\n",
        "\n",
        "#saída\n",
        "print (' o valor total é',vt )"
      ],
      "metadata": {
        "colab": {
          "base_uri": "https://localhost:8080/"
        },
        "id": "Ra4oq0oim7On",
        "outputId": "2838ccbd-2bfd-404e-83a1-50303491d1ac"
      },
      "execution_count": 15,
      "outputs": [
        {
          "output_type": "stream",
          "name": "stdout",
          "text": [
            "valor da peça: 30\n",
            "quantidade de peças: 3\n",
            " o valor total é 90.0\n"
          ]
        }
      ]
    },
    {
      "cell_type": "markdown",
      "source": [
        "Celsius para Fahrenhait"
      ],
      "metadata": {
        "id": "56UAVgK5t21u"
      }
    },
    {
      "cell_type": "code",
      "source": [
        "#entrada\n",
        "Celsius = float(input(\"temperatura1: \"))\n",
        "#processamento\n",
        "Graus = (32)+ Celsius * 1.8\n",
        "\n",
        "#saída\n",
        "print ('a temperatura atual é de : ' , Graus)\n"
      ],
      "metadata": {
        "colab": {
          "base_uri": "https://localhost:8080/"
        },
        "id": "_KeWF79Tt_TE",
        "outputId": "503e17db-7bf7-4f0e-bf85-50c5b00e1193"
      },
      "execution_count": 22,
      "outputs": [
        {
          "output_type": "stream",
          "name": "stdout",
          "text": [
            "temperatura1: 20\n",
            "a temperatura atual é de :  68.0\n"
          ]
        }
      ]
    },
    {
      "cell_type": "markdown",
      "source": [
        "#quilometro em milha"
      ],
      "metadata": {
        "id": "3GbUeE5TzLzy"
      }
    },
    {
      "cell_type": "code",
      "source": [
        "#entrada\n",
        "quilometro =float(input('comprimento'))\n",
        "\n",
        "#processamento\n",
        "km = (quilometro/ 1.609)\n",
        "\n",
        "#saida\n",
        "print('o comprimento percorrido foi:',km)"
      ],
      "metadata": {
        "colab": {
          "base_uri": "https://localhost:8080/"
        },
        "id": "AlOXSUw8ztrm",
        "outputId": "2e495115-c4d0-4169-f505-c6a620e2f2a1"
      },
      "execution_count": 40,
      "outputs": [
        {
          "output_type": "stream",
          "name": "stdout",
          "text": [
            "comprimento60\n",
            "o comprimento percorrido foi: 37.290242386575514\n"
          ]
        }
      ]
    }
  ]
}